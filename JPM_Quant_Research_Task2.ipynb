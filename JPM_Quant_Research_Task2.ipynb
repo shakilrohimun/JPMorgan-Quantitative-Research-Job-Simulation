{
 "cells": [
  {
   "cell_type": "markdown",
   "id": "ee4e998d-6376-4e3f-9b01-e7670ba5da9f",
   "metadata": {},
   "source": [
    "# Packages"
   ]
  },
  {
   "cell_type": "code",
   "execution_count": 2,
   "id": "c3b2f39a-41f4-46d1-833f-970d3c1cce22",
   "metadata": {},
   "outputs": [],
   "source": [
    "import pandas as pd\n",
    "import numpy as np\n",
    "from datetime import datetime"
   ]
  },
  {
   "cell_type": "code",
   "execution_count": 4,
   "id": "241f9baf-62f5-43e0-b6b8-def16d571241",
   "metadata": {},
   "outputs": [
    {
     "data": {
      "text/html": [
       "<div>\n",
       "<style scoped>\n",
       "    .dataframe tbody tr th:only-of-type {\n",
       "        vertical-align: middle;\n",
       "    }\n",
       "\n",
       "    .dataframe tbody tr th {\n",
       "        vertical-align: top;\n",
       "    }\n",
       "\n",
       "    .dataframe thead th {\n",
       "        text-align: right;\n",
       "    }\n",
       "</style>\n",
       "<table border=\"1\" class=\"dataframe\">\n",
       "  <thead>\n",
       "    <tr style=\"text-align: right;\">\n",
       "      <th></th>\n",
       "      <th>Dates</th>\n",
       "      <th>Prices</th>\n",
       "    </tr>\n",
       "  </thead>\n",
       "  <tbody>\n",
       "    <tr>\n",
       "      <th>0</th>\n",
       "      <td>10/31/20</td>\n",
       "      <td>10.1</td>\n",
       "    </tr>\n",
       "    <tr>\n",
       "      <th>1</th>\n",
       "      <td>11/30/20</td>\n",
       "      <td>10.3</td>\n",
       "    </tr>\n",
       "    <tr>\n",
       "      <th>2</th>\n",
       "      <td>12/31/20</td>\n",
       "      <td>11.0</td>\n",
       "    </tr>\n",
       "    <tr>\n",
       "      <th>3</th>\n",
       "      <td>1/31/21</td>\n",
       "      <td>10.9</td>\n",
       "    </tr>\n",
       "    <tr>\n",
       "      <th>4</th>\n",
       "      <td>2/28/21</td>\n",
       "      <td>10.9</td>\n",
       "    </tr>\n",
       "  </tbody>\n",
       "</table>\n",
       "</div>"
      ],
      "text/plain": [
       "      Dates  Prices\n",
       "0  10/31/20    10.1\n",
       "1  11/30/20    10.3\n",
       "2  12/31/20    11.0\n",
       "3   1/31/21    10.9\n",
       "4   2/28/21    10.9"
      ]
     },
     "execution_count": 4,
     "metadata": {},
     "output_type": "execute_result"
    }
   ],
   "source": [
    "# Load the uploaded file to examine its structure and contents and display it\n",
    "file_path = 'Nat_Gas.csv'\n",
    "nat_gas_data = pd.read_csv(file_path)\n",
    "\n",
    "nat_gas_data.head()"
   ]
  },
  {
   "cell_type": "code",
   "execution_count": 3,
   "id": "51b0d701-334a-4828-98ca-870211680ae5",
   "metadata": {},
   "outputs": [
    {
     "data": {
      "text/plain": [
       "-432.0"
      ]
     },
     "execution_count": 3,
     "metadata": {},
     "output_type": "execute_result"
    }
   ],
   "source": [
    "# Convert Dates column to datetime\n",
    "nat_gas_data['Dates'] = pd.to_datetime(nat_gas_data['Dates'], format='%m/%d/%y')\n",
    "\n",
    "# Define the pricing model function\n",
    "def price_storage_contract(injection_dates, withdrawal_dates, prices, injection_rate, withdrawal_rate, max_volume, storage_costs):\n",
    "    # Initialize variables\n",
    "    volume = 0  # Current stored volume\n",
    "    total_value = 0  # Contract value\n",
    "\n",
    "    # Sort dates for processing\n",
    "    all_dates = sorted(set(injection_dates + withdrawal_dates))\n",
    "    \n",
    "    for date in all_dates:\n",
    "        # Check if it's an injection or withdrawal date\n",
    "        if date in injection_dates:\n",
    "            # Calculate injected volume and cost\n",
    "            injected_volume = min(injection_rate, max_volume - volume)\n",
    "            volume += injected_volume\n",
    "            total_value -= injected_volume * prices[date]  # Subtract purchase cost\n",
    "        elif date in withdrawal_dates:\n",
    "            # Calculate withdrawn volume and profit\n",
    "            withdrawn_volume = min(withdrawal_rate, volume)\n",
    "            volume -= withdrawn_volume\n",
    "            total_value += withdrawn_volume * prices[date]  # Add selling revenue\n",
    "        \n",
    "        # Subtract storage costs for the current volume\n",
    "        total_value -= storage_costs * volume\n",
    "\n",
    "    return total_value\n",
    "\n",
    "# Prepare test parameters\n",
    "prices_dict = dict(zip(nat_gas_data['Dates'], nat_gas_data['Prices']))\n",
    "test_injection_dates = [datetime(2020, 11, 30), datetime(2020, 12, 31)]\n",
    "test_withdrawal_dates = [datetime(2021, 1, 31), datetime(2021, 2, 28)]\n",
    "test_injection_rate = 100  # units per day\n",
    "test_withdrawal_rate = 80  # units per day\n",
    "test_max_volume = 500  # maximum storage capacity\n",
    "test_storage_costs = 0.1  # cost per unit volume per day\n",
    "\n",
    "# Calculate contract value\n",
    "contract_value = price_storage_contract(\n",
    "    injection_dates=test_injection_dates,\n",
    "    withdrawal_dates=test_withdrawal_dates,\n",
    "    prices=prices_dict,\n",
    "    injection_rate=test_injection_rate,\n",
    "    withdrawal_rate=test_withdrawal_rate,\n",
    "    max_volume=test_max_volume,\n",
    "    storage_costs=test_storage_costs\n",
    ")\n",
    "\n",
    "contract_value"
   ]
  },
  {
   "cell_type": "markdown",
   "id": "aecea98c-cc5a-430c-b8a8-54e4e1b7edf5",
   "metadata": {},
   "source": [
    "The result of $432$ indicates that, in this scenario, there is a net loss of $432$ monetary units."
   ]
  }
 ],
 "metadata": {
  "kernelspec": {
   "display_name": "Python 3 (ipykernel)",
   "language": "python",
   "name": "python3"
  },
  "language_info": {
   "codemirror_mode": {
    "name": "ipython",
    "version": 3
   },
   "file_extension": ".py",
   "mimetype": "text/x-python",
   "name": "python",
   "nbconvert_exporter": "python",
   "pygments_lexer": "ipython3",
   "version": "3.11.5"
  }
 },
 "nbformat": 4,
 "nbformat_minor": 5
}
